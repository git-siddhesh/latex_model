{
 "cells": [
  {
   "cell_type": "code",
   "execution_count": null,
   "metadata": {},
   "outputs": [],
   "source": [
    "\"\"\"\n",
    "Scalars: Simple values such as strings, numbers, and booleans.\n",
    "\n",
    "Lists: Ordered collections of scalars, represented by a hyphen (-) followed by a space and the value.\n",
    "\n",
    "Dictionaries: Unordered collections of key-value pairs, represented by colons (:) separating the keys and values.\n",
    "\n",
    "Documents: A YAML file can contain one or more YAML documents separated by “ — -”. Each document is treated as a standalone unit.\n",
    "\n",
    "Comments: Lines that start with “#” are considered comments and these are ignored by YAML parsers.\n",
    "\n",
    "\"\"\""
   ]
  },
  {
   "cell_type": "code",
   "execution_count": 13,
   "metadata": {},
   "outputs": [
    {
     "data": {
      "text/plain": [
       "'/mnt/data/config_single.yaml'"
      ]
     },
     "execution_count": 13,
     "metadata": {},
     "output_type": "execute_result"
    }
   ],
   "source": [
    "import yaml\n",
    "class DictToObject:\n",
    "    def __init__(self, dictionary):\n",
    "        # For each key-value pair in the dictionary, set attribute with key name to the value\n",
    "        for key, value in dictionary.items():\n",
    "            if isinstance(value, dict):  # If value is a dictionary, convert it recursively\n",
    "                value = DictToObject(value)\n",
    "            self.__dict__[key] = value\n",
    "\n",
    "    def __getattr__(self, attr):\n",
    "        # This method is called when an attribute lookup has not found the attribute in the usual places.\n",
    "        # It allows us to return the value for the key from the dictionary.\n",
    "        return self.__dict__.get(attr, None)\n",
    "    \n",
    "    def __repr__(self):\n",
    "        # This method is called when the repr() function is used on the object.\n",
    "        # It returns a string representation of the object.\n",
    "        return str(self.__dict__)\n",
    "    \n",
    "\n",
    "# Combine all documents into a dictionary of dictionaries instead of separate YAML documents\n",
    "combined_content = {\n",
    "    \"PATH\": {\n",
    "        \"ROOT\": '/home/dosisiddhesh/latex_model',\n",
    "        \"DATA\": '/home/dosisiddhesh/SID_DATA_PROCESSED/DATA_2',\n",
    "        \"DATA_PKL\": '/home/dosisiddhesh/SID_DATA_PROCESSED/DATA_PICKEL',\n",
    "        \"MODEL\": \"/home/dosisiddhesh/latex_model/model_exp\",\n",
    "        \"TOKENIZER\": \"/home/dosisiddhesh/MISTRAL_EXP/model/hf_tokenizer_1.0%_30000_new\",\n",
    "        \"LOG\": \"/home/dosisiddhesh/latex_model/log_exp\"\n",
    "    },\n",
    "\n",
    "    \"PARAMETERS\": {\n",
    "        \"D_emb\": 4096,\n",
    "        \"Vocab\": 30000,\n",
    "        \"D_head\": 128,\n",
    "        \"D_FF\": 14336,\n",
    "        \"N_Layer\": 5,\n",
    "        \"N_Head\": 32,\n",
    "        \"KV_Head\": 8,\n",
    "        \"Window\": 4096  # 8192\n",
    "    },\n",
    "\n",
    "    # Assuming HYPERPARAMETERS and LOGGING are empty for now\n",
    "    \"HYPERPARAMETERS\": {\n",
    "        \"seq_len\" : 4096,\n",
    "        \"grad_acc_batch_size\": 32,\n",
    "        \"batch_size\": 1,\n",
    "\n",
    "\n",
    "    },\n",
    "\n",
    "    \"TRAINING_PARAM\":{\n",
    "        \"EPOCHS\": 100,\n",
    "        \"LEARNING_RATE\": 0.0001,\n",
    "        \"WARMUP_STEPS\": 1000,\n",
    "        \"EPSILON\": 1e-6,\n",
    "        \"CLIP_NORM\": 1.0,\n",
    "        \"float16\": False,\n",
    "        \"adafactor\": False,\n",
    "        \"enb_grad_checkpoint\": False,     \n",
    "    },\n",
    "\n",
    "    \"DATA_PARAM\": {\n",
    "        \"train_data\": \"train_{0}_{1}_datasets.pkl\",\n",
    "        \"val_data\": \"val_{0}_{1}_datasets.pkl\",\n",
    "        \"test_data\": \"test_{0}_{1}_datasets.pkl\",\n",
    "        \"Sam\"\n",
    "    },\n",
    "\n",
    "    \"LOGGING\": {}\n",
    "}\n",
    "\n",
    "# Write the combined content to a YAML file\n",
    "with open('config.yaml', 'w') as file:\n",
    "    yaml.safe_dump(combined_content, file, sort_keys=False)\n",
    "\n",
    "'/mnt/data/config_single.yaml'  # Return the path of the new file\n"
   ]
  },
  {
   "cell_type": "code",
   "execution_count": 14,
   "metadata": {},
   "outputs": [],
   "source": [
    "# Read the YAML file\n",
    "with open('config.yaml', 'r') as file:\n",
    "    content = yaml.safe_load(file)\n",
    "\n"
   ]
  },
  {
   "cell_type": "code",
   "execution_count": 10,
   "metadata": {},
   "outputs": [],
   "source": [
    "\n",
    "content = DictToObject(content)\n",
    "\n"
   ]
  },
  {
   "cell_type": "code",
   "execution_count": 11,
   "metadata": {},
   "outputs": [
    {
     "data": {
      "text/plain": [
       "'/home/username/Projects/Transformer'"
      ]
     },
     "execution_count": 11,
     "metadata": {},
     "output_type": "execute_result"
    }
   ],
   "source": [
    "content.PATH.ROOT "
   ]
  },
  {
   "cell_type": "code",
   "execution_count": null,
   "metadata": {},
   "outputs": [],
   "source": []
  }
 ],
 "metadata": {
  "kernelspec": {
   "display_name": "base",
   "language": "python",
   "name": "python3"
  },
  "language_info": {
   "codemirror_mode": {
    "name": "ipython",
    "version": 3
   },
   "file_extension": ".py",
   "mimetype": "text/x-python",
   "name": "python",
   "nbconvert_exporter": "python",
   "pygments_lexer": "ipython3",
   "version": "3.11.5"
  }
 },
 "nbformat": 4,
 "nbformat_minor": 2
}
